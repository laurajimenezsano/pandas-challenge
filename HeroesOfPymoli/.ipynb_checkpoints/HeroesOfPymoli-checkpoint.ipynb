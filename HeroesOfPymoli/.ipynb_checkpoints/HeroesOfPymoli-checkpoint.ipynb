{
 "cells": [
  {
   "cell_type": "code",
   "execution_count": 1,
   "metadata": {},
   "outputs": [],
   "source": [
    "#import the pandas library\n",
    "import pandas as pd\n",
    "import numpy as np"
   ]
  },
  {
   "cell_type": "code",
   "execution_count": 2,
   "metadata": {},
   "outputs": [
    {
     "data": {
      "text/html": [
       "<div>\n",
       "<style scoped>\n",
       "    .dataframe tbody tr th:only-of-type {\n",
       "        vertical-align: middle;\n",
       "    }\n",
       "\n",
       "    .dataframe tbody tr th {\n",
       "        vertical-align: top;\n",
       "    }\n",
       "\n",
       "    .dataframe thead th {\n",
       "        text-align: right;\n",
       "    }\n",
       "</style>\n",
       "<table border=\"1\" class=\"dataframe\">\n",
       "  <thead>\n",
       "    <tr style=\"text-align: right;\">\n",
       "      <th></th>\n",
       "      <th>Purchase ID</th>\n",
       "      <th>SN</th>\n",
       "      <th>Age</th>\n",
       "      <th>Gender</th>\n",
       "      <th>Item ID</th>\n",
       "      <th>Item Name</th>\n",
       "      <th>Price</th>\n",
       "    </tr>\n",
       "  </thead>\n",
       "  <tbody>\n",
       "    <tr>\n",
       "      <th>0</th>\n",
       "      <td>0</td>\n",
       "      <td>Lisim78</td>\n",
       "      <td>20</td>\n",
       "      <td>Male</td>\n",
       "      <td>108</td>\n",
       "      <td>Extraction, Quickblade Of Trembling Hands</td>\n",
       "      <td>3.53</td>\n",
       "    </tr>\n",
       "    <tr>\n",
       "      <th>1</th>\n",
       "      <td>1</td>\n",
       "      <td>Lisovynya38</td>\n",
       "      <td>40</td>\n",
       "      <td>Male</td>\n",
       "      <td>143</td>\n",
       "      <td>Frenzied Scimitar</td>\n",
       "      <td>1.56</td>\n",
       "    </tr>\n",
       "    <tr>\n",
       "      <th>2</th>\n",
       "      <td>2</td>\n",
       "      <td>Ithergue48</td>\n",
       "      <td>24</td>\n",
       "      <td>Male</td>\n",
       "      <td>92</td>\n",
       "      <td>Final Critic</td>\n",
       "      <td>4.88</td>\n",
       "    </tr>\n",
       "    <tr>\n",
       "      <th>3</th>\n",
       "      <td>3</td>\n",
       "      <td>Chamassasya86</td>\n",
       "      <td>24</td>\n",
       "      <td>Male</td>\n",
       "      <td>100</td>\n",
       "      <td>Blindscythe</td>\n",
       "      <td>3.27</td>\n",
       "    </tr>\n",
       "    <tr>\n",
       "      <th>4</th>\n",
       "      <td>4</td>\n",
       "      <td>Iskosia90</td>\n",
       "      <td>23</td>\n",
       "      <td>Male</td>\n",
       "      <td>131</td>\n",
       "      <td>Fury</td>\n",
       "      <td>1.44</td>\n",
       "    </tr>\n",
       "  </tbody>\n",
       "</table>\n",
       "</div>"
      ],
      "text/plain": [
       "   Purchase ID             SN  Age Gender  Item ID  \\\n",
       "0            0        Lisim78   20   Male      108   \n",
       "1            1    Lisovynya38   40   Male      143   \n",
       "2            2     Ithergue48   24   Male       92   \n",
       "3            3  Chamassasya86   24   Male      100   \n",
       "4            4      Iskosia90   23   Male      131   \n",
       "\n",
       "                                   Item Name  Price  \n",
       "0  Extraction, Quickblade Of Trembling Hands   3.53  \n",
       "1                          Frenzied Scimitar   1.56  \n",
       "2                               Final Critic   4.88  \n",
       "3                                Blindscythe   3.27  \n",
       "4                                       Fury   1.44  "
      ]
     },
     "execution_count": 2,
     "metadata": {},
     "output_type": "execute_result"
    }
   ],
   "source": [
    "#import the csv file\n",
    "heroes_path = \"purchase_data.csv\"\n",
    "\n",
    "#read into dataframe\n",
    "heroes_df = pd.read_csv(heroes_path)\n",
    "heroes_df.head()"
   ]
  },
  {
   "cell_type": "code",
   "execution_count": 3,
   "metadata": {},
   "outputs": [
    {
     "name": "stdout",
     "output_type": "stream",
     "text": [
      "Total Number of Players: 576\n"
     ]
    }
   ],
   "source": [
    "#total number of players\n",
    "total_players = heroes_df['SN'].nunique()\n",
    "print('Total Number of Players: ' + str(total_players))"
   ]
  },
  {
   "cell_type": "code",
   "execution_count": 97,
   "metadata": {},
   "outputs": [
    {
     "name": "stdout",
     "output_type": "stream",
     "text": [
      "Unique Items: 179\n",
      "Average Purchase Price: 3.05\n",
      "Total Purchases: 780\n",
      "Total Revenue: $2379.77\n"
     ]
    }
   ],
   "source": [
    "# purchasing analysis\n",
    "\n",
    "## unique items\n",
    "unique_items = len(heroes_df['Item ID'].unique())\n",
    "print('Unique Items: ' + str(unique_items))\n",
    "\n",
    "## avg purchase price\n",
    "avg_purchase_price = \"{:.2f}\".format(heroes_df['Price'].mean())\n",
    "print('Average Purchase Price: '+str(avg_purchase_price))\n",
    "\n",
    "## total number of purchases\n",
    "number_of_rows = len(heroes_df)\n",
    "print('Total Purchases: '+str(number_of_rows))\n",
    "\n",
    "## total revenue\n",
    "total_revenue = \"{:.2f}\".format(heroes_df['Price'].sum())\n",
    "print('Total Revenue: '+ '$'+str(total_revenue))"
   ]
  },
  {
   "cell_type": "code",
   "execution_count": 75,
   "metadata": {},
   "outputs": [
    {
     "data": {
      "text/html": [
       "<style  type=\"text/css\" >\n",
       "</style><table id=\"T_1bab08cc_a464_11eb_9bcc_a4d18cd4bef0\" ><thead>    <tr>        <th class=\"blank level0\" ></th>        <th class=\"col_heading level0 col0\" >Count of Players</th>        <th class=\"col_heading level0 col1\" >Percentage of all Players</th>    </tr>    <tr>        <th class=\"index_name level0\" >Gender</th>        <th class=\"blank\" ></th>        <th class=\"blank\" ></th>    </tr></thead><tbody>\n",
       "                <tr>\n",
       "                        <th id=\"T_1bab08cc_a464_11eb_9bcc_a4d18cd4bef0level0_row0\" class=\"row_heading level0 row0\" >Female</th>\n",
       "                        <td id=\"T_1bab08cc_a464_11eb_9bcc_a4d18cd4bef0row0_col0\" class=\"data row0 col0\" >81</td>\n",
       "                        <td id=\"T_1bab08cc_a464_11eb_9bcc_a4d18cd4bef0row0_col1\" class=\"data row0 col1\" >14.06%</td>\n",
       "            </tr>\n",
       "            <tr>\n",
       "                        <th id=\"T_1bab08cc_a464_11eb_9bcc_a4d18cd4bef0level0_row1\" class=\"row_heading level0 row1\" >Male</th>\n",
       "                        <td id=\"T_1bab08cc_a464_11eb_9bcc_a4d18cd4bef0row1_col0\" class=\"data row1 col0\" >484</td>\n",
       "                        <td id=\"T_1bab08cc_a464_11eb_9bcc_a4d18cd4bef0row1_col1\" class=\"data row1 col1\" >84.03%</td>\n",
       "            </tr>\n",
       "            <tr>\n",
       "                        <th id=\"T_1bab08cc_a464_11eb_9bcc_a4d18cd4bef0level0_row2\" class=\"row_heading level0 row2\" >Other / Non-Disclosed</th>\n",
       "                        <td id=\"T_1bab08cc_a464_11eb_9bcc_a4d18cd4bef0row2_col0\" class=\"data row2 col0\" >11</td>\n",
       "                        <td id=\"T_1bab08cc_a464_11eb_9bcc_a4d18cd4bef0row2_col1\" class=\"data row2 col1\" >1.91%</td>\n",
       "            </tr>\n",
       "    </tbody></table>"
      ],
      "text/plain": [
       "<pandas.io.formats.style.Styler at 0x7ffca6293190>"
      ]
     },
     "execution_count": 75,
     "metadata": {},
     "output_type": "execute_result"
    }
   ],
   "source": [
    "# Gender Demographics\n",
    "\n",
    "gender_demo = heroes_df.groupby('Gender')\n",
    "gender_count = gender_demo.nunique()['SN']\n",
    "gender_percent = gender_count / total_players * 100\n",
    "gender_demo_summary = pd.DataFrame({\"Count of Players\": gender_count,\"Percentage of all Players\":gender_percent})\n",
    "gender_demo_summary.style.format({\"Percentage of all Players\": \"{:.2f}%\"})\n"
   ]
  },
  {
   "cell_type": "code",
   "execution_count": 98,
   "metadata": {},
   "outputs": [
    {
     "data": {
      "text/html": [
       "<style  type=\"text/css\" >\n",
       "</style><table id=\"T_02dfe28c_a46d_11eb_9bcc_a4d18cd4bef0\" ><thead>    <tr>        <th class=\"blank level0\" ></th>        <th class=\"col_heading level0 col0\" >Purchase Count</th>        <th class=\"col_heading level0 col1\" >Avg. Purchase Price</th>        <th class=\"col_heading level0 col2\" >Total Purchase Value</th>        <th class=\"col_heading level0 col3\" >Avg. Purchase Total per Person</th>    </tr>    <tr>        <th class=\"index_name level0\" >Gender</th>        <th class=\"blank\" ></th>        <th class=\"blank\" ></th>        <th class=\"blank\" ></th>        <th class=\"blank\" ></th>    </tr></thead><tbody>\n",
       "                <tr>\n",
       "                        <th id=\"T_02dfe28c_a46d_11eb_9bcc_a4d18cd4bef0level0_row0\" class=\"row_heading level0 row0\" >Female</th>\n",
       "                        <td id=\"T_02dfe28c_a46d_11eb_9bcc_a4d18cd4bef0row0_col0\" class=\"data row0 col0\" >113</td>\n",
       "                        <td id=\"T_02dfe28c_a46d_11eb_9bcc_a4d18cd4bef0row0_col1\" class=\"data row0 col1\" >$3.20</td>\n",
       "                        <td id=\"T_02dfe28c_a46d_11eb_9bcc_a4d18cd4bef0row0_col2\" class=\"data row0 col2\" >$361.94</td>\n",
       "                        <td id=\"T_02dfe28c_a46d_11eb_9bcc_a4d18cd4bef0row0_col3\" class=\"data row0 col3\" >$4.47</td>\n",
       "            </tr>\n",
       "            <tr>\n",
       "                        <th id=\"T_02dfe28c_a46d_11eb_9bcc_a4d18cd4bef0level0_row1\" class=\"row_heading level0 row1\" >Male</th>\n",
       "                        <td id=\"T_02dfe28c_a46d_11eb_9bcc_a4d18cd4bef0row1_col0\" class=\"data row1 col0\" >652</td>\n",
       "                        <td id=\"T_02dfe28c_a46d_11eb_9bcc_a4d18cd4bef0row1_col1\" class=\"data row1 col1\" >$3.02</td>\n",
       "                        <td id=\"T_02dfe28c_a46d_11eb_9bcc_a4d18cd4bef0row1_col2\" class=\"data row1 col2\" >$1967.64</td>\n",
       "                        <td id=\"T_02dfe28c_a46d_11eb_9bcc_a4d18cd4bef0row1_col3\" class=\"data row1 col3\" >$4.07</td>\n",
       "            </tr>\n",
       "            <tr>\n",
       "                        <th id=\"T_02dfe28c_a46d_11eb_9bcc_a4d18cd4bef0level0_row2\" class=\"row_heading level0 row2\" >Other / Non-Disclosed</th>\n",
       "                        <td id=\"T_02dfe28c_a46d_11eb_9bcc_a4d18cd4bef0row2_col0\" class=\"data row2 col0\" >15</td>\n",
       "                        <td id=\"T_02dfe28c_a46d_11eb_9bcc_a4d18cd4bef0row2_col1\" class=\"data row2 col1\" >$3.35</td>\n",
       "                        <td id=\"T_02dfe28c_a46d_11eb_9bcc_a4d18cd4bef0row2_col2\" class=\"data row2 col2\" >$50.19</td>\n",
       "                        <td id=\"T_02dfe28c_a46d_11eb_9bcc_a4d18cd4bef0row2_col3\" class=\"data row2 col3\" >$4.56</td>\n",
       "            </tr>\n",
       "    </tbody></table>"
      ],
      "text/plain": [
       "<pandas.io.formats.style.Styler at 0x7ffca81d3df0>"
      ]
     },
     "execution_count": 98,
     "metadata": {},
     "output_type": "execute_result"
    }
   ],
   "source": [
    "# Purchasing analysis by gender\n",
    "\n",
    "# defining each grouped metric to analyze\n",
    "purchase_count = gender_demo[\"Purchase ID\"].count()\n",
    "avg_purchase_price = gender_demo['Price'].mean()\n",
    "total_revenue_grouped = gender_demo['Price'].sum()\n",
    "avg_purchase_pp = gender_demo['Price'].sum() / gender_demo['SN'].nunique()\n",
    "\n",
    "#creating dataframe for sumary\n",
    "gender_purchase_summary = pd.DataFrame({\"Purchase Count\": purchase_count,\"Avg. Purchase Price\": avg_purchase_price,\"Total Purchase Value\":total_revenue_grouped,\"Avg. Purchase Total per Person\": avg_purchase_pp})\n",
    "gender_purchase_summary.style.format({\"Avg. Purchase Price\":\"${:.2f}\",\"Total Purchase Value\":\"${:.2f}\",\"Avg. Purchase Total per Person\":\"${:.2f}\"})\n"
   ]
  },
  {
   "cell_type": "code",
   "execution_count": 99,
   "metadata": {},
   "outputs": [
    {
     "data": {
      "text/html": [
       "<style  type=\"text/css\" >\n",
       "</style><table id=\"T_5322efaa_a46d_11eb_9bcc_a4d18cd4bef0\" ><thead>    <tr>        <th class=\"blank level0\" ></th>        <th class=\"col_heading level0 col0\" >Purchase Count</th>        <th class=\"col_heading level0 col1\" >Avg. Purchase Price</th>        <th class=\"col_heading level0 col2\" >Total Purchase Value</th>        <th class=\"col_heading level0 col3\" >Avg. Purchase Total per Person</th>    </tr>    <tr>        <th class=\"index_name level0\" >Age Group</th>        <th class=\"blank\" ></th>        <th class=\"blank\" ></th>        <th class=\"blank\" ></th>        <th class=\"blank\" ></th>    </tr></thead><tbody>\n",
       "                <tr>\n",
       "                        <th id=\"T_5322efaa_a46d_11eb_9bcc_a4d18cd4bef0level0_row0\" class=\"row_heading level0 row0\" ><10</th>\n",
       "                        <td id=\"T_5322efaa_a46d_11eb_9bcc_a4d18cd4bef0row0_col0\" class=\"data row0 col0\" >23</td>\n",
       "                        <td id=\"T_5322efaa_a46d_11eb_9bcc_a4d18cd4bef0row0_col1\" class=\"data row0 col1\" >$3.35</td>\n",
       "                        <td id=\"T_5322efaa_a46d_11eb_9bcc_a4d18cd4bef0row0_col2\" class=\"data row0 col2\" >$77.13</td>\n",
       "                        <td id=\"T_5322efaa_a46d_11eb_9bcc_a4d18cd4bef0row0_col3\" class=\"data row0 col3\" >$4.54</td>\n",
       "            </tr>\n",
       "            <tr>\n",
       "                        <th id=\"T_5322efaa_a46d_11eb_9bcc_a4d18cd4bef0level0_row1\" class=\"row_heading level0 row1\" >10-14</th>\n",
       "                        <td id=\"T_5322efaa_a46d_11eb_9bcc_a4d18cd4bef0row1_col0\" class=\"data row1 col0\" >28</td>\n",
       "                        <td id=\"T_5322efaa_a46d_11eb_9bcc_a4d18cd4bef0row1_col1\" class=\"data row1 col1\" >$2.96</td>\n",
       "                        <td id=\"T_5322efaa_a46d_11eb_9bcc_a4d18cd4bef0row1_col2\" class=\"data row1 col2\" >$82.78</td>\n",
       "                        <td id=\"T_5322efaa_a46d_11eb_9bcc_a4d18cd4bef0row1_col3\" class=\"data row1 col3\" >$3.76</td>\n",
       "            </tr>\n",
       "            <tr>\n",
       "                        <th id=\"T_5322efaa_a46d_11eb_9bcc_a4d18cd4bef0level0_row2\" class=\"row_heading level0 row2\" >15-19</th>\n",
       "                        <td id=\"T_5322efaa_a46d_11eb_9bcc_a4d18cd4bef0row2_col0\" class=\"data row2 col0\" >136</td>\n",
       "                        <td id=\"T_5322efaa_a46d_11eb_9bcc_a4d18cd4bef0row2_col1\" class=\"data row2 col1\" >$3.04</td>\n",
       "                        <td id=\"T_5322efaa_a46d_11eb_9bcc_a4d18cd4bef0row2_col2\" class=\"data row2 col2\" >$412.89</td>\n",
       "                        <td id=\"T_5322efaa_a46d_11eb_9bcc_a4d18cd4bef0row2_col3\" class=\"data row2 col3\" >$3.86</td>\n",
       "            </tr>\n",
       "            <tr>\n",
       "                        <th id=\"T_5322efaa_a46d_11eb_9bcc_a4d18cd4bef0level0_row3\" class=\"row_heading level0 row3\" >20-24</th>\n",
       "                        <td id=\"T_5322efaa_a46d_11eb_9bcc_a4d18cd4bef0row3_col0\" class=\"data row3 col0\" >365</td>\n",
       "                        <td id=\"T_5322efaa_a46d_11eb_9bcc_a4d18cd4bef0row3_col1\" class=\"data row3 col1\" >$3.05</td>\n",
       "                        <td id=\"T_5322efaa_a46d_11eb_9bcc_a4d18cd4bef0row3_col2\" class=\"data row3 col2\" >$1114.06</td>\n",
       "                        <td id=\"T_5322efaa_a46d_11eb_9bcc_a4d18cd4bef0row3_col3\" class=\"data row3 col3\" >$4.32</td>\n",
       "            </tr>\n",
       "            <tr>\n",
       "                        <th id=\"T_5322efaa_a46d_11eb_9bcc_a4d18cd4bef0level0_row4\" class=\"row_heading level0 row4\" >25-29</th>\n",
       "                        <td id=\"T_5322efaa_a46d_11eb_9bcc_a4d18cd4bef0row4_col0\" class=\"data row4 col0\" >101</td>\n",
       "                        <td id=\"T_5322efaa_a46d_11eb_9bcc_a4d18cd4bef0row4_col1\" class=\"data row4 col1\" >$2.90</td>\n",
       "                        <td id=\"T_5322efaa_a46d_11eb_9bcc_a4d18cd4bef0row4_col2\" class=\"data row4 col2\" >$293.00</td>\n",
       "                        <td id=\"T_5322efaa_a46d_11eb_9bcc_a4d18cd4bef0row4_col3\" class=\"data row4 col3\" >$3.81</td>\n",
       "            </tr>\n",
       "            <tr>\n",
       "                        <th id=\"T_5322efaa_a46d_11eb_9bcc_a4d18cd4bef0level0_row5\" class=\"row_heading level0 row5\" >30-34</th>\n",
       "                        <td id=\"T_5322efaa_a46d_11eb_9bcc_a4d18cd4bef0row5_col0\" class=\"data row5 col0\" >73</td>\n",
       "                        <td id=\"T_5322efaa_a46d_11eb_9bcc_a4d18cd4bef0row5_col1\" class=\"data row5 col1\" >$2.93</td>\n",
       "                        <td id=\"T_5322efaa_a46d_11eb_9bcc_a4d18cd4bef0row5_col2\" class=\"data row5 col2\" >$214.00</td>\n",
       "                        <td id=\"T_5322efaa_a46d_11eb_9bcc_a4d18cd4bef0row5_col3\" class=\"data row5 col3\" >$4.12</td>\n",
       "            </tr>\n",
       "            <tr>\n",
       "                        <th id=\"T_5322efaa_a46d_11eb_9bcc_a4d18cd4bef0level0_row6\" class=\"row_heading level0 row6\" >35-39</th>\n",
       "                        <td id=\"T_5322efaa_a46d_11eb_9bcc_a4d18cd4bef0row6_col0\" class=\"data row6 col0\" >41</td>\n",
       "                        <td id=\"T_5322efaa_a46d_11eb_9bcc_a4d18cd4bef0row6_col1\" class=\"data row6 col1\" >$3.60</td>\n",
       "                        <td id=\"T_5322efaa_a46d_11eb_9bcc_a4d18cd4bef0row6_col2\" class=\"data row6 col2\" >$147.67</td>\n",
       "                        <td id=\"T_5322efaa_a46d_11eb_9bcc_a4d18cd4bef0row6_col3\" class=\"data row6 col3\" >$4.76</td>\n",
       "            </tr>\n",
       "            <tr>\n",
       "                        <th id=\"T_5322efaa_a46d_11eb_9bcc_a4d18cd4bef0level0_row7\" class=\"row_heading level0 row7\" >40+</th>\n",
       "                        <td id=\"T_5322efaa_a46d_11eb_9bcc_a4d18cd4bef0row7_col0\" class=\"data row7 col0\" >13</td>\n",
       "                        <td id=\"T_5322efaa_a46d_11eb_9bcc_a4d18cd4bef0row7_col1\" class=\"data row7 col1\" >$2.94</td>\n",
       "                        <td id=\"T_5322efaa_a46d_11eb_9bcc_a4d18cd4bef0row7_col2\" class=\"data row7 col2\" >$38.24</td>\n",
       "                        <td id=\"T_5322efaa_a46d_11eb_9bcc_a4d18cd4bef0row7_col3\" class=\"data row7 col3\" >$3.19</td>\n",
       "            </tr>\n",
       "    </tbody></table>"
      ],
      "text/plain": [
       "<pandas.io.formats.style.Styler at 0x7ffca81ea820>"
      ]
     },
     "execution_count": 99,
     "metadata": {},
     "output_type": "execute_result"
    }
   ],
   "source": [
    "#create ranges and labels for ranges\n",
    "range_groups = [0,9.9,14.9,19.9,24.9,29.9,34.9,39.9,50]\n",
    "range_labels = [\"<10\",\"10-14\",\"15-19\",\"20-24\",\"25-29\",\"30-34\",\"35-39\",\"40+\"]\n",
    "\n",
    "#group the original data age per the ranges identified\n",
    "heroes_df['Age Group'] = pd.cut(heroes_df['Age'],range_groups,labels=range_labels)\n",
    "heroes_df\n",
    "\n",
    "age_group = heroes_df.groupby('Age Group')\n",
    "\n",
    "# defining each grouped metric to analyze\n",
    "purchase_count = age_group[\"Purchase ID\"].count()\n",
    "avg_purchase_price = age_group['Price'].mean()\n",
    "total_revenue_grouped = age_group['Price'].sum()\n",
    "avg_purchase_pp = age_group['Price'].sum() / age_group['SN'].nunique()\n",
    "\n",
    "#creating dataframe for sumary\n",
    "age_group_summary = pd.DataFrame({\"Purchase Count\": purchase_count,\"Avg. Purchase Price\": avg_purchase_price,\"Total Purchase Value\":total_revenue_grouped,\"Avg. Purchase Total per Person\": avg_purchase_pp})\n",
    "age_group_summary.style.format({\"Avg. Purchase Price\":\"${:.2f}\",\"Total Purchase Value\":\"${:.2f}\",\"Avg. Purchase Total per Person\":\"${:.2f}\"})\n"
   ]
  },
  {
   "cell_type": "code",
   "execution_count": 100,
   "metadata": {},
   "outputs": [
    {
     "data": {
      "text/html": [
       "<style  type=\"text/css\" >\n",
       "</style><table id=\"T_572c1fa4_a46d_11eb_9bcc_a4d18cd4bef0\" ><thead>    <tr>        <th class=\"blank level0\" ></th>        <th class=\"col_heading level0 col0\" >Purchase Count</th>        <th class=\"col_heading level0 col1\" >Avg Purchase Price</th>        <th class=\"col_heading level0 col2\" >Total Purchase Value</th>    </tr>    <tr>        <th class=\"index_name level0\" >SN</th>        <th class=\"blank\" ></th>        <th class=\"blank\" ></th>        <th class=\"blank\" ></th>    </tr></thead><tbody>\n",
       "                <tr>\n",
       "                        <th id=\"T_572c1fa4_a46d_11eb_9bcc_a4d18cd4bef0level0_row0\" class=\"row_heading level0 row0\" >Lisosia93</th>\n",
       "                        <td id=\"T_572c1fa4_a46d_11eb_9bcc_a4d18cd4bef0row0_col0\" class=\"data row0 col0\" >5</td>\n",
       "                        <td id=\"T_572c1fa4_a46d_11eb_9bcc_a4d18cd4bef0row0_col1\" class=\"data row0 col1\" >$3.79</td>\n",
       "                        <td id=\"T_572c1fa4_a46d_11eb_9bcc_a4d18cd4bef0row0_col2\" class=\"data row0 col2\" >$18.96</td>\n",
       "            </tr>\n",
       "            <tr>\n",
       "                        <th id=\"T_572c1fa4_a46d_11eb_9bcc_a4d18cd4bef0level0_row1\" class=\"row_heading level0 row1\" >Idastidru52</th>\n",
       "                        <td id=\"T_572c1fa4_a46d_11eb_9bcc_a4d18cd4bef0row1_col0\" class=\"data row1 col0\" >4</td>\n",
       "                        <td id=\"T_572c1fa4_a46d_11eb_9bcc_a4d18cd4bef0row1_col1\" class=\"data row1 col1\" >$3.86</td>\n",
       "                        <td id=\"T_572c1fa4_a46d_11eb_9bcc_a4d18cd4bef0row1_col2\" class=\"data row1 col2\" >$15.45</td>\n",
       "            </tr>\n",
       "            <tr>\n",
       "                        <th id=\"T_572c1fa4_a46d_11eb_9bcc_a4d18cd4bef0level0_row2\" class=\"row_heading level0 row2\" >Chamjask73</th>\n",
       "                        <td id=\"T_572c1fa4_a46d_11eb_9bcc_a4d18cd4bef0row2_col0\" class=\"data row2 col0\" >3</td>\n",
       "                        <td id=\"T_572c1fa4_a46d_11eb_9bcc_a4d18cd4bef0row2_col1\" class=\"data row2 col1\" >$4.61</td>\n",
       "                        <td id=\"T_572c1fa4_a46d_11eb_9bcc_a4d18cd4bef0row2_col2\" class=\"data row2 col2\" >$13.83</td>\n",
       "            </tr>\n",
       "            <tr>\n",
       "                        <th id=\"T_572c1fa4_a46d_11eb_9bcc_a4d18cd4bef0level0_row3\" class=\"row_heading level0 row3\" >Iral74</th>\n",
       "                        <td id=\"T_572c1fa4_a46d_11eb_9bcc_a4d18cd4bef0row3_col0\" class=\"data row3 col0\" >4</td>\n",
       "                        <td id=\"T_572c1fa4_a46d_11eb_9bcc_a4d18cd4bef0row3_col1\" class=\"data row3 col1\" >$3.41</td>\n",
       "                        <td id=\"T_572c1fa4_a46d_11eb_9bcc_a4d18cd4bef0row3_col2\" class=\"data row3 col2\" >$13.62</td>\n",
       "            </tr>\n",
       "            <tr>\n",
       "                        <th id=\"T_572c1fa4_a46d_11eb_9bcc_a4d18cd4bef0level0_row4\" class=\"row_heading level0 row4\" >Iskadarya95</th>\n",
       "                        <td id=\"T_572c1fa4_a46d_11eb_9bcc_a4d18cd4bef0row4_col0\" class=\"data row4 col0\" >3</td>\n",
       "                        <td id=\"T_572c1fa4_a46d_11eb_9bcc_a4d18cd4bef0row4_col1\" class=\"data row4 col1\" >$4.37</td>\n",
       "                        <td id=\"T_572c1fa4_a46d_11eb_9bcc_a4d18cd4bef0row4_col2\" class=\"data row4 col2\" >$13.10</td>\n",
       "            </tr>\n",
       "    </tbody></table>"
      ],
      "text/plain": [
       "<pandas.io.formats.style.Styler at 0x7ffca63a5d00>"
      ]
     },
     "execution_count": 100,
     "metadata": {},
     "output_type": "execute_result"
    }
   ],
   "source": [
    "#top 5 spenders by purchase value\n",
    "top_five = heroes_df.groupby('SN')\n",
    "top_five_purchases = top_five['SN'].count()\n",
    "top_five_revenue = top_five['Price'].sum()\n",
    "top_five_avg_purch_price = top_five_revenue / top_five_purchases\n",
    "top_five_summary = pd.DataFrame({\"Purchase Count\": top_five_purchases,\"Avg Purchase Price\": top_five_avg_purch_price,\"Total Purchase Value\": top_five_revenue})\n",
    "top_five_summary_sorted = top_five_summary.sort_values(by='Total Purchase Value', ascending = False).head()\n",
    "top_five_summary_sorted.style.format({\"Avg Purchase Price\":\"${:.2f}\",\"Total Purchase Value\":\"${:.2f}\"})\n"
   ]
  },
  {
   "cell_type": "code",
   "execution_count": 102,
   "metadata": {},
   "outputs": [
    {
     "data": {
      "text/html": [
       "<style  type=\"text/css\" >\n",
       "</style><table id=\"T_78146eec_a46d_11eb_9bcc_a4d18cd4bef0\" ><thead>    <tr>        <th class=\"blank\" ></th>        <th class=\"blank level0\" ></th>        <th class=\"col_heading level0 col0\" >Purchase Count</th>        <th class=\"col_heading level0 col1\" >Item Price</th>        <th class=\"col_heading level0 col2\" >Total Purchase Value</th>    </tr>    <tr>        <th class=\"index_name level0\" >Item ID</th>        <th class=\"index_name level1\" >Item Name</th>        <th class=\"blank\" ></th>        <th class=\"blank\" ></th>        <th class=\"blank\" ></th>    </tr></thead><tbody>\n",
       "                <tr>\n",
       "                        <th id=\"T_78146eec_a46d_11eb_9bcc_a4d18cd4bef0level0_row0\" class=\"row_heading level0 row0\" >92</th>\n",
       "                        <th id=\"T_78146eec_a46d_11eb_9bcc_a4d18cd4bef0level1_row0\" class=\"row_heading level1 row0\" >Final Critic</th>\n",
       "                        <td id=\"T_78146eec_a46d_11eb_9bcc_a4d18cd4bef0row0_col0\" class=\"data row0 col0\" >13</td>\n",
       "                        <td id=\"T_78146eec_a46d_11eb_9bcc_a4d18cd4bef0row0_col1\" class=\"data row0 col1\" >$4.61</td>\n",
       "                        <td id=\"T_78146eec_a46d_11eb_9bcc_a4d18cd4bef0row0_col2\" class=\"data row0 col2\" >$59.99</td>\n",
       "            </tr>\n",
       "            <tr>\n",
       "                        <th id=\"T_78146eec_a46d_11eb_9bcc_a4d18cd4bef0level0_row1\" class=\"row_heading level0 row1\" >178</th>\n",
       "                        <th id=\"T_78146eec_a46d_11eb_9bcc_a4d18cd4bef0level1_row1\" class=\"row_heading level1 row1\" >Oathbreaker, Last Hope of the Breaking Storm</th>\n",
       "                        <td id=\"T_78146eec_a46d_11eb_9bcc_a4d18cd4bef0row1_col0\" class=\"data row1 col0\" >12</td>\n",
       "                        <td id=\"T_78146eec_a46d_11eb_9bcc_a4d18cd4bef0row1_col1\" class=\"data row1 col1\" >$4.23</td>\n",
       "                        <td id=\"T_78146eec_a46d_11eb_9bcc_a4d18cd4bef0row1_col2\" class=\"data row1 col2\" >$50.76</td>\n",
       "            </tr>\n",
       "            <tr>\n",
       "                        <th id=\"T_78146eec_a46d_11eb_9bcc_a4d18cd4bef0level0_row2\" class=\"row_heading level0 row2\" >145</th>\n",
       "                        <th id=\"T_78146eec_a46d_11eb_9bcc_a4d18cd4bef0level1_row2\" class=\"row_heading level1 row2\" >Fiery Glass Crusader</th>\n",
       "                        <td id=\"T_78146eec_a46d_11eb_9bcc_a4d18cd4bef0row2_col0\" class=\"data row2 col0\" >9</td>\n",
       "                        <td id=\"T_78146eec_a46d_11eb_9bcc_a4d18cd4bef0row2_col1\" class=\"data row2 col1\" >$4.58</td>\n",
       "                        <td id=\"T_78146eec_a46d_11eb_9bcc_a4d18cd4bef0row2_col2\" class=\"data row2 col2\" >$41.22</td>\n",
       "            </tr>\n",
       "            <tr>\n",
       "                        <th id=\"T_78146eec_a46d_11eb_9bcc_a4d18cd4bef0level0_row3\" class=\"row_heading level0 row3\" >132</th>\n",
       "                        <th id=\"T_78146eec_a46d_11eb_9bcc_a4d18cd4bef0level1_row3\" class=\"row_heading level1 row3\" >Persuasion</th>\n",
       "                        <td id=\"T_78146eec_a46d_11eb_9bcc_a4d18cd4bef0row3_col0\" class=\"data row3 col0\" >9</td>\n",
       "                        <td id=\"T_78146eec_a46d_11eb_9bcc_a4d18cd4bef0row3_col1\" class=\"data row3 col1\" >$3.22</td>\n",
       "                        <td id=\"T_78146eec_a46d_11eb_9bcc_a4d18cd4bef0row3_col2\" class=\"data row3 col2\" >$28.99</td>\n",
       "            </tr>\n",
       "            <tr>\n",
       "                        <th id=\"T_78146eec_a46d_11eb_9bcc_a4d18cd4bef0level0_row4\" class=\"row_heading level0 row4\" >108</th>\n",
       "                        <th id=\"T_78146eec_a46d_11eb_9bcc_a4d18cd4bef0level1_row4\" class=\"row_heading level1 row4\" >Extraction, Quickblade Of Trembling Hands</th>\n",
       "                        <td id=\"T_78146eec_a46d_11eb_9bcc_a4d18cd4bef0row4_col0\" class=\"data row4 col0\" >9</td>\n",
       "                        <td id=\"T_78146eec_a46d_11eb_9bcc_a4d18cd4bef0row4_col1\" class=\"data row4 col1\" >$3.53</td>\n",
       "                        <td id=\"T_78146eec_a46d_11eb_9bcc_a4d18cd4bef0row4_col2\" class=\"data row4 col2\" >$31.77</td>\n",
       "            </tr>\n",
       "    </tbody></table>"
      ],
      "text/plain": [
       "<pandas.io.formats.style.Styler at 0x7ffca63a5f70>"
      ]
     },
     "execution_count": 102,
     "metadata": {},
     "output_type": "execute_result"
    }
   ],
   "source": [
    "#top 5 popular items by purchase count\n",
    "top_five_items = heroes_df.groupby(['Item ID','Item Name'])\n",
    "top_five_items_purchases = top_five_items['Item ID'].count()\n",
    "top_five_items_revenue = top_five_items['Price'].sum()\n",
    "top_five_items_price = top_five_items_revenue / top_five_items_purchases\n",
    "top_five_items_summary = pd.DataFrame({\"Purchase Count\": top_five_items_purchases,\"Item Price\": top_five_items_price,\"Total Purchase Value\": top_five_items_revenue})\n",
    "top_five_items_summary_sorted = top_five_items_summary.sort_values(by=['Purchase Count'], ascending = False).head()\n",
    "top_five_items_summary_sorted.style.format({\"Item Price\":\"${:.2f}\",\"Total Purchase Value\":\"${:.2f}\"})"
   ]
  },
  {
   "cell_type": "code",
   "execution_count": 103,
   "metadata": {},
   "outputs": [
    {
     "data": {
      "text/html": [
       "<style  type=\"text/css\" >\n",
       "</style><table id=\"T_7ed27daa_a46d_11eb_9bcc_a4d18cd4bef0\" ><thead>    <tr>        <th class=\"blank\" ></th>        <th class=\"blank level0\" ></th>        <th class=\"col_heading level0 col0\" >Purchase Count</th>        <th class=\"col_heading level0 col1\" >Item Price</th>        <th class=\"col_heading level0 col2\" >Total Purchase Value</th>    </tr>    <tr>        <th class=\"index_name level0\" >Item ID</th>        <th class=\"index_name level1\" >Item Name</th>        <th class=\"blank\" ></th>        <th class=\"blank\" ></th>        <th class=\"blank\" ></th>    </tr></thead><tbody>\n",
       "                <tr>\n",
       "                        <th id=\"T_7ed27daa_a46d_11eb_9bcc_a4d18cd4bef0level0_row0\" class=\"row_heading level0 row0\" >92</th>\n",
       "                        <th id=\"T_7ed27daa_a46d_11eb_9bcc_a4d18cd4bef0level1_row0\" class=\"row_heading level1 row0\" >Final Critic</th>\n",
       "                        <td id=\"T_7ed27daa_a46d_11eb_9bcc_a4d18cd4bef0row0_col0\" class=\"data row0 col0\" >13</td>\n",
       "                        <td id=\"T_7ed27daa_a46d_11eb_9bcc_a4d18cd4bef0row0_col1\" class=\"data row0 col1\" >$4.61</td>\n",
       "                        <td id=\"T_7ed27daa_a46d_11eb_9bcc_a4d18cd4bef0row0_col2\" class=\"data row0 col2\" >$59.99</td>\n",
       "            </tr>\n",
       "            <tr>\n",
       "                        <th id=\"T_7ed27daa_a46d_11eb_9bcc_a4d18cd4bef0level0_row1\" class=\"row_heading level0 row1\" >178</th>\n",
       "                        <th id=\"T_7ed27daa_a46d_11eb_9bcc_a4d18cd4bef0level1_row1\" class=\"row_heading level1 row1\" >Oathbreaker, Last Hope of the Breaking Storm</th>\n",
       "                        <td id=\"T_7ed27daa_a46d_11eb_9bcc_a4d18cd4bef0row1_col0\" class=\"data row1 col0\" >12</td>\n",
       "                        <td id=\"T_7ed27daa_a46d_11eb_9bcc_a4d18cd4bef0row1_col1\" class=\"data row1 col1\" >$4.23</td>\n",
       "                        <td id=\"T_7ed27daa_a46d_11eb_9bcc_a4d18cd4bef0row1_col2\" class=\"data row1 col2\" >$50.76</td>\n",
       "            </tr>\n",
       "            <tr>\n",
       "                        <th id=\"T_7ed27daa_a46d_11eb_9bcc_a4d18cd4bef0level0_row2\" class=\"row_heading level0 row2\" >82</th>\n",
       "                        <th id=\"T_7ed27daa_a46d_11eb_9bcc_a4d18cd4bef0level1_row2\" class=\"row_heading level1 row2\" >Nirvana</th>\n",
       "                        <td id=\"T_7ed27daa_a46d_11eb_9bcc_a4d18cd4bef0row2_col0\" class=\"data row2 col0\" >9</td>\n",
       "                        <td id=\"T_7ed27daa_a46d_11eb_9bcc_a4d18cd4bef0row2_col1\" class=\"data row2 col1\" >$4.90</td>\n",
       "                        <td id=\"T_7ed27daa_a46d_11eb_9bcc_a4d18cd4bef0row2_col2\" class=\"data row2 col2\" >$44.10</td>\n",
       "            </tr>\n",
       "            <tr>\n",
       "                        <th id=\"T_7ed27daa_a46d_11eb_9bcc_a4d18cd4bef0level0_row3\" class=\"row_heading level0 row3\" >145</th>\n",
       "                        <th id=\"T_7ed27daa_a46d_11eb_9bcc_a4d18cd4bef0level1_row3\" class=\"row_heading level1 row3\" >Fiery Glass Crusader</th>\n",
       "                        <td id=\"T_7ed27daa_a46d_11eb_9bcc_a4d18cd4bef0row3_col0\" class=\"data row3 col0\" >9</td>\n",
       "                        <td id=\"T_7ed27daa_a46d_11eb_9bcc_a4d18cd4bef0row3_col1\" class=\"data row3 col1\" >$4.58</td>\n",
       "                        <td id=\"T_7ed27daa_a46d_11eb_9bcc_a4d18cd4bef0row3_col2\" class=\"data row3 col2\" >$41.22</td>\n",
       "            </tr>\n",
       "            <tr>\n",
       "                        <th id=\"T_7ed27daa_a46d_11eb_9bcc_a4d18cd4bef0level0_row4\" class=\"row_heading level0 row4\" >103</th>\n",
       "                        <th id=\"T_7ed27daa_a46d_11eb_9bcc_a4d18cd4bef0level1_row4\" class=\"row_heading level1 row4\" >Singed Scalpel</th>\n",
       "                        <td id=\"T_7ed27daa_a46d_11eb_9bcc_a4d18cd4bef0row4_col0\" class=\"data row4 col0\" >8</td>\n",
       "                        <td id=\"T_7ed27daa_a46d_11eb_9bcc_a4d18cd4bef0row4_col1\" class=\"data row4 col1\" >$4.35</td>\n",
       "                        <td id=\"T_7ed27daa_a46d_11eb_9bcc_a4d18cd4bef0row4_col2\" class=\"data row4 col2\" >$34.80</td>\n",
       "            </tr>\n",
       "    </tbody></table>"
      ],
      "text/plain": [
       "<pandas.io.formats.style.Styler at 0x7ffca81fbe50>"
      ]
     },
     "execution_count": 103,
     "metadata": {},
     "output_type": "execute_result"
    }
   ],
   "source": [
    "#top 5 profitable items by total purchase value\n",
    "top_five_profitable_items_summary = pd.DataFrame({\"Purchase Count\": top_five_items_purchases,\"Avg Purchase Price\": top_five_items_avg_purch_price,\"Total Purchase Value\": top_five_items_revenue})\n",
    "top_five_profitable_items_summary_sorted = top_five_items_summary.sort_values(by='Total Purchase Value', ascending = False).head()\n",
    "top_five_profitable_items_summary_sorted.style.format({\"Item Price\":\"${:.2f}\",\"Total Purchase Value\":\"${:.2f}\"})"
   ]
  }
 ],
 "metadata": {
  "kernelspec": {
   "display_name": "Python 3",
   "language": "python",
   "name": "python3"
  },
  "language_info": {
   "codemirror_mode": {
    "name": "ipython",
    "version": 3
   },
   "file_extension": ".py",
   "mimetype": "text/x-python",
   "name": "python",
   "nbconvert_exporter": "python",
   "pygments_lexer": "ipython3",
   "version": "3.8.5"
  }
 },
 "nbformat": 4,
 "nbformat_minor": 4
}
