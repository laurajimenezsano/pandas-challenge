{
 "cells": [
  {
   "cell_type": "code",
   "execution_count": 1,
   "metadata": {},
   "outputs": [],
   "source": [
    "#import the pandas library\n",
    "import pandas as pd\n",
    "import numpy as np"
   ]
  },
  {
   "cell_type": "code",
   "execution_count": 2,
   "metadata": {},
   "outputs": [
    {
     "data": {
      "text/html": [
       "<div>\n",
       "<style scoped>\n",
       "    .dataframe tbody tr th:only-of-type {\n",
       "        vertical-align: middle;\n",
       "    }\n",
       "\n",
       "    .dataframe tbody tr th {\n",
       "        vertical-align: top;\n",
       "    }\n",
       "\n",
       "    .dataframe thead th {\n",
       "        text-align: right;\n",
       "    }\n",
       "</style>\n",
       "<table border=\"1\" class=\"dataframe\">\n",
       "  <thead>\n",
       "    <tr style=\"text-align: right;\">\n",
       "      <th></th>\n",
       "      <th>Purchase ID</th>\n",
       "      <th>SN</th>\n",
       "      <th>Age</th>\n",
       "      <th>Gender</th>\n",
       "      <th>Item ID</th>\n",
       "      <th>Item Name</th>\n",
       "      <th>Price</th>\n",
       "    </tr>\n",
       "  </thead>\n",
       "  <tbody>\n",
       "    <tr>\n",
       "      <th>0</th>\n",
       "      <td>0</td>\n",
       "      <td>Lisim78</td>\n",
       "      <td>20</td>\n",
       "      <td>Male</td>\n",
       "      <td>108</td>\n",
       "      <td>Extraction, Quickblade Of Trembling Hands</td>\n",
       "      <td>3.53</td>\n",
       "    </tr>\n",
       "    <tr>\n",
       "      <th>1</th>\n",
       "      <td>1</td>\n",
       "      <td>Lisovynya38</td>\n",
       "      <td>40</td>\n",
       "      <td>Male</td>\n",
       "      <td>143</td>\n",
       "      <td>Frenzied Scimitar</td>\n",
       "      <td>1.56</td>\n",
       "    </tr>\n",
       "    <tr>\n",
       "      <th>2</th>\n",
       "      <td>2</td>\n",
       "      <td>Ithergue48</td>\n",
       "      <td>24</td>\n",
       "      <td>Male</td>\n",
       "      <td>92</td>\n",
       "      <td>Final Critic</td>\n",
       "      <td>4.88</td>\n",
       "    </tr>\n",
       "    <tr>\n",
       "      <th>3</th>\n",
       "      <td>3</td>\n",
       "      <td>Chamassasya86</td>\n",
       "      <td>24</td>\n",
       "      <td>Male</td>\n",
       "      <td>100</td>\n",
       "      <td>Blindscythe</td>\n",
       "      <td>3.27</td>\n",
       "    </tr>\n",
       "    <tr>\n",
       "      <th>4</th>\n",
       "      <td>4</td>\n",
       "      <td>Iskosia90</td>\n",
       "      <td>23</td>\n",
       "      <td>Male</td>\n",
       "      <td>131</td>\n",
       "      <td>Fury</td>\n",
       "      <td>1.44</td>\n",
       "    </tr>\n",
       "  </tbody>\n",
       "</table>\n",
       "</div>"
      ],
      "text/plain": [
       "   Purchase ID             SN  Age Gender  Item ID  \\\n",
       "0            0        Lisim78   20   Male      108   \n",
       "1            1    Lisovynya38   40   Male      143   \n",
       "2            2     Ithergue48   24   Male       92   \n",
       "3            3  Chamassasya86   24   Male      100   \n",
       "4            4      Iskosia90   23   Male      131   \n",
       "\n",
       "                                   Item Name  Price  \n",
       "0  Extraction, Quickblade Of Trembling Hands   3.53  \n",
       "1                          Frenzied Scimitar   1.56  \n",
       "2                               Final Critic   4.88  \n",
       "3                                Blindscythe   3.27  \n",
       "4                                       Fury   1.44  "
      ]
     },
     "execution_count": 2,
     "metadata": {},
     "output_type": "execute_result"
    }
   ],
   "source": [
    "#import the csv file\n",
    "heroes_path = \"purchase_data.csv\"\n",
    "\n",
    "#read into dataframe\n",
    "heroes_df = pd.read_csv(heroes_path)\n",
    "heroes_df.head()"
   ]
  },
  {
   "cell_type": "code",
   "execution_count": 3,
   "metadata": {},
   "outputs": [
    {
     "name": "stdout",
     "output_type": "stream",
     "text": [
      "Total Number of Players: 576\n"
     ]
    }
   ],
   "source": [
    "#total number of players\n",
    "total_players = heroes_df['SN'].nunique()\n",
    "print('Total Number of Players: ' + str(total_players))"
   ]
  },
  {
   "cell_type": "code",
   "execution_count": 51,
   "metadata": {},
   "outputs": [
    {
     "name": "stdout",
     "output_type": "stream",
     "text": [
      "Unique Items: 179\n",
      "Average Purchase Price: 3.05\n",
      "Total Purchases: 780\n",
      "Total Revenue: 2379.77\n"
     ]
    }
   ],
   "source": [
    "# purchasing analysis\n",
    "\n",
    "## unique items\n",
    "unique_items = len(heroes_df['Item ID'].unique())\n",
    "print('Unique Items: ' + str(unique_items))\n",
    "\n",
    "## avg purchase price\n",
    "avg_purchase_price = \"{:.2f}\".format(heroes_df['Price'].mean())\n",
    "print('Average Purchase Price: '+str(avg_purchase_price))\n",
    "\n",
    "## total number of purchases\n",
    "number_of_rows = len(heroes_df)\n",
    "print('Total Purchases: '+str(number_of_rows))\n",
    "\n",
    "## total revenue\n",
    "total_revenue = \"{:.2f}\".format(heroes_df['Price'].sum())\n",
    "print('Total Revenue: '+str(total_revenue))"
   ]
  },
  {
   "cell_type": "code",
   "execution_count": 48,
   "metadata": {},
   "outputs": [
    {
     "name": "stdout",
     "output_type": "stream",
     "text": [
      "                       Count of Players  Percentage of all Players\n",
      "Gender                                                            \n",
      "Female                               81                  14.062500\n",
      "Male                                484                  84.027778\n",
      "Other / Non-Disclosed                11                   1.909722\n"
     ]
    }
   ],
   "source": [
    "# Gender Demographics\n",
    "\n",
    "gender_demo = heroes_df.groupby('Gender')\n",
    "gender_count = gender_demo.nunique()['SN']\n",
    "gender_percent = gender_count / total_players * 100\n",
    "gender_demo_summary = pd.DataFrame({\"Count of Players\": gender_count,\"Percentage of all Players\":gender_percent})\n",
    "print(gender_demo_summary)\n"
   ]
  },
  {
   "cell_type": "code",
   "execution_count": 56,
   "metadata": {},
   "outputs": [
    {
     "name": "stdout",
     "output_type": "stream",
     "text": [
      "                       Purchase Count  Avg. Purchase Price  \\\n",
      "Gender                                                       \n",
      "Female                            113             3.203009   \n",
      "Male                              652             3.017853   \n",
      "Other / Non-Disclosed              15             3.346000   \n",
      "\n",
      "                       Total Purchase Value  Avg. Purchase Total per Person  \n",
      "Gender                                                                       \n",
      "Female                               361.94                        4.468395  \n",
      "Male                                1967.64                        4.065372  \n",
      "Other / Non-Disclosed                 50.19                        4.562727  \n"
     ]
    }
   ],
   "source": [
    "# Purchasing analysis by gender\n",
    "\n",
    "# defining each grouped metric to analyze\n",
    "purchase_count = gender_demo[\"Purchase ID\"].count()\n",
    "avg_purchase_price = gender_demo['Price'].mean()\n",
    "total_revenue_grouped = gender_demo['Price'].sum()\n",
    "avg_purchase_pp = gender_demo['Price'].sum() / gender_demo['SN'].nunique()\n",
    "\n",
    "#creating dataframe for sumary\n",
    "gender_purchase_summary = pd.DataFrame({\"Purchase Count\": purchase_count,\"Avg. Purchase Price\": avg_purchase_price,\"Total Purchase Value\":total_revenue_grouped,\"Avg. Purchase Total per Person\": avg_purchase_pp})\n",
    "print(gender_purchase_summary)"
   ]
  },
  {
   "cell_type": "code",
   "execution_count": 90,
   "metadata": {},
   "outputs": [
    {
     "name": "stdout",
     "output_type": "stream",
     "text": [
      "           Purchase Count  Avg. Purchase Price  Total Purchase Value  \\\n",
      "Age Group                                                              \n",
      "<10                    23             3.353478                 77.13   \n",
      "10-14                  28             2.956429                 82.78   \n",
      "15-19                 113             3.034602                342.91   \n",
      "20-24                 254             3.038937                771.89   \n",
      "25-29                 207             3.063961                634.24   \n",
      "30-34                  63             2.876667                181.23   \n",
      "35-40                  38             2.728421                103.68   \n",
      "41-45                  35             3.552857                124.35   \n",
      "46+                    15             3.366667                 50.50   \n",
      "\n",
      "           Avg. Purchase Total per Person  \n",
      "Age Group                                  \n",
      "<10                              4.537059  \n",
      "10-14                            3.762727  \n",
      "15-19                            3.810111  \n",
      "20-24                            4.336461  \n",
      "25-29                            4.200265  \n",
      "30-34                            3.775625  \n",
      "35-40                            3.840000  \n",
      "41-45                            4.974000  \n",
      "46+                              3.607143  \n"
     ]
    }
   ],
   "source": [
    "#create ranges and labels for ranges\n",
    "range_groups = [0,9.9,14.9,18.9,22.9,26.9,30.9,34.9,38.9,42.9]\n",
    "range_labels = [\"<10\",\"10-14\",\"15-19\",\"20-24\",\"25-29\",\"30-34\",\"35-40\",\"41-45\",\"46+\"]\n",
    "\n",
    "#group the original data age per the ranges identified\n",
    "heroes_df['Age Group'] = pd.cut(heroes_df['Age'],range_groups,labels=range_labels)\n",
    "heroes_df\n",
    "\n",
    "age_group = heroes_df.groupby('Age Group')\n",
    "\n",
    "# defining each grouped metric to analyze\n",
    "purchase_count = age_group[\"Purchase ID\"].count()\n",
    "avg_purchase_price = age_group['Price'].mean()\n",
    "total_revenue_grouped = age_group['Price'].sum()\n",
    "avg_purchase_pp = age_group['Price'].sum() / age_group['SN'].nunique()\n",
    "\n",
    "#creating dataframe for sumary\n",
    "age_group_summary = pd.DataFrame({\"Purchase Count\": purchase_count,\"Avg. Purchase Price\": avg_purchase_price,\"Total Purchase Value\":total_revenue_grouped,\"Avg. Purchase Total per Person\": avg_purchase_pp})\n",
    "print(age_group_summary)"
   ]
  }
 ],
 "metadata": {
  "kernelspec": {
   "display_name": "Python 3",
   "language": "python",
   "name": "python3"
  },
  "language_info": {
   "codemirror_mode": {
    "name": "ipython",
    "version": 3
   },
   "file_extension": ".py",
   "mimetype": "text/x-python",
   "name": "python",
   "nbconvert_exporter": "python",
   "pygments_lexer": "ipython3",
   "version": "3.8.5"
  }
 },
 "nbformat": 4,
 "nbformat_minor": 4
}
